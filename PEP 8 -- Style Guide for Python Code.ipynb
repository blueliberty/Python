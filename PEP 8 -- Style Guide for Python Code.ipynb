{
 "cells": [
  {
   "cell_type": "markdown",
   "metadata": {},
   "source": [
    "# 目录\n",
    "+ 简介(Introduction)\n",
    "\n",
    "\n",
    "+ 愚蠢的一致性就像没有脑子的妖怪(A Foolish Consistency Is The Hobgoblin Of Little Minds)\n",
    "\n",
    "\n",
    "+ 代码布局(Code Lay-Out)\n",
    "    + 缩进(Indentation)\n",
    "    + 制表符还是空格(Tab Or Space?)\n",
    "    + 单行最大长度(Maximum Line Length)\n",
    "    + 在二元运算符的前面或后面换行？(Should a line break before or after a binary operator?)\n",
    "    + 空白行(Blank Line)\n",
    "    + 源文件编码(Source File Encoding)\n",
    "    + 导入(Imports)\n",
    "    + 模块层次的dunder names(Module level dunder names)\n",
    "\n",
    "\n",
    "+ 字符串引用(String Quotes)\n",
    "\n",
    "\n",
    "+ 表达式和语句中的空格(Whitespace In Expressions And Statements)\n",
    "    + 一些痛点(Pet Peeves)\n",
    "    + 其他建议(Other Recommendations)\n",
    "\n",
    "\n",
    "+ 注释(Comments)\n",
    "    + 块注释(Block Comments)\n",
    "    + 行内注释(Inline Comments)\n",
    "    + 文档字符串(Documentation Strings)\n",
    "\n",
    "\n",
    "+ 命名约定(Naming Conventions)\n",
    "    + 重写原则(Overriding Principle)\n",
    "    + 描述性：命名风格(Descriptive: Naming Styles)\n",
    "    + 规范性：命名约定(Prescriptive: Naming Conventions)\n",
    "        + 需要避免的命名(Names To Avoid)\n",
    "        + 包和模块命名(Package And Module Names)\n",
    "        + 类命名(Class Names)\n",
    "        + 异常命名(Exception Names)\n",
    "        + 类型变量命名(Type variable names)\n",
    "        + 全局变量命名(Global Variable Names)\n",
    "        + 函数命名(Function Names)\n",
    "        + 函数和方法参数(Function And Method Arguments)\n",
    "        + 方法命名和实例变量(Method Names And Instance Variables)\n",
    "        + 常量(Constants)\n",
    "        + 继承的设计(Designing For Inheritance)\n",
    "    + 公开和内部接口(Public And Internal Interfaces)\n",
    "\n",
    "\n",
    "+ 编程建议(Programming Recommendations)"
   ]
  },
  {
   "cell_type": "markdown",
   "metadata": {},
   "source": [
    "# 简介(Introduction)"
   ]
  },
  {
   "cell_type": "markdown",
   "metadata": {},
   "source": [
    "本文档给出的编码约定，来源于 Python 主发行版标准库中的代码。Python 的 C 语言实现所使用的 C 语言风格指南，请参考PEP7。  \n",
    "\n",
    "本文档与 PEP 257（文档字符串规范）都来自于 Guido1) 的 Python Style Guido 论文原文，另外有来自 Barry‘s style guide 的补充。  \n",
    "\n",
    "随着 Python 语言自身的改变，本指南也在持续演进，新的编码约定被认同，而旧的矣被废弃。  \n",
    "\n",
    "许多项目都有一套专有的编码风格指南，当冲突发生时，应以项目编码规范为优先。"
   ]
  },
  {
   "cell_type": "markdown",
   "metadata": {},
   "source": [
    "# 愚蠢的一致性就像没有脑子的妖怪(A Foolish Consistency Is The Hobgoblin Of Little Minds)"
   ]
  },
  {
   "cell_type": "markdown",
   "metadata": {},
   "source": [
    "Guido 的一个核心观点认为，相比于被编写，代码更多的是被阅读。这篇指南意在提高代码的可读性并使之在广袤的 Python 编码中保持风格一致。就像 PEP 20 所表述的，“可读性当被重视”.\n",
    "\n",
    "风格指南即一致性指南。本文档中描述的一致性是重要的，一个项目内代码的一致性则更重要一些，而一个模块或方法中代码的一致性则是最重要的。\n",
    "\n",
    "但最终要的是：知道什么时候去打破一致性 — 风格指南并不总是适用。当存在不确定性时，做出你最好的抉择。你可以看看别人的代码是怎么写的，选择一种看起来最好的，并及时发问！\n",
    "\n",
    "特别注意：不要为了遵守本 PEP 而破坏代码的向后兼容性!"
   ]
  },
  {
   "cell_type": "markdown",
   "metadata": {},
   "source": [
    "当以下情况发生时，也是忽略某个风格指南的好理由：\n",
    "\n",
    "+ 当遵守指南会降低代码可读性，甚至对于那些依循 PEP 去阅读代码的人也是这样时。\n",
    "+ 当遵守指南会与其他部分的代码风格背离时 — 当然也许这是一个修正某些混乱代码的机会。\n",
    "+ 当那些并没有遵循指南的旧代码已无法修改时。\n",
    "+ 当你的代码需要与旧版本的 Python 保持兼容，而旧版本的 Python 不支持指南中提到的特性时。"
   ]
  },
  {
   "cell_type": "markdown",
   "metadata": {},
   "source": [
    "# 代码布局(Code Lay-Out)"
   ]
  },
  {
   "cell_type": "markdown",
   "metadata": {},
   "source": [
    "## 缩进(Indentation)"
   ]
  },
  {
   "cell_type": "markdown",
   "metadata": {},
   "source": [
    "每次缩进使用4个空格。"
   ]
  },
  {
   "cell_type": "markdown",
   "metadata": {},
   "source": [
    "续行应该与被圆括号、方括号、花括号包裹起来的其他元素对齐，或者使用悬挂式缩进。当使用悬挂式缩进时，应该遵循这些注意事项：第一行不能有参数，应该使用进一步的缩进来将续行与其他行区分开："
   ]
  },
  {
   "cell_type": "code",
   "execution_count": null,
   "metadata": {
    "collapsed": true
   },
   "outputs": [],
   "source": [
    "# 符合约定的代码\n",
    "\n",
    "# 续行与被圆括号包裹的元素对齐\n",
    "foo = long_function_name(var_one, var_two,\n",
    "                         var_three, var_four)\n",
    "\n",
    "# 悬挂缩进，第一行没有参数，则续行只要缩进一次\n",
    "foo = long_function_name(\n",
    "    var_one, var_two,\n",
    "    var_three, var_four)\n",
    "\n",
    "# 如果有其他行，则缩进两次从而与其他行区别\n",
    "def long_function_name(\n",
    "        var_one, var_two, var_three,\n",
    "        var_four):\n",
    "    print(var_one)"
   ]
  },
  {
   "cell_type": "code",
   "execution_count": null,
   "metadata": {
    "collapsed": true
   },
   "outputs": [],
   "source": [
    "# 不符合约定的代码\n",
    "\n",
    "# 第一行有参数，续航却没有垂直对齐\n",
    "foo = long_function_name(var_one, var_two,\n",
    "    var_three, var_four)\n",
    "\n",
    "# 没有缩进两次与其他行区别\n",
    "def long_function_name(\n",
    "    var_one, var_two, var_three,\n",
    "    var_four):\n",
    "    print(var_one)"
   ]
  },
  {
   "cell_type": "code",
   "execution_count": null,
   "metadata": {
    "collapsed": true
   },
   "outputs": [],
   "source": [
    "# 可选的符合约定的代码\n",
    "\n",
    "# 悬挂缩进可以不使用4个空格\n",
    "foo = long_function_name(\n",
    "  var_one, var_two,\n",
    "  var_three, var_four)"
   ]
  },
  {
   "cell_type": "markdown",
   "metadata": {},
   "source": [
    "如果if语句中的条件部分在书写时需要换行，建议采取一定措施，将条件部分与if语句内的执行部分区分开（非必须）："
   ]
  },
  {
   "cell_type": "code",
   "execution_count": null,
   "metadata": {
    "collapsed": true
   },
   "outputs": [],
   "source": [
    "# 符合约定的代码\n",
    "\n",
    "# 不进行额外的缩进\n",
    "if (this_is_one_thing and\n",
    "    that_is_another_thing):\n",
    "    do_something()\n",
    "\n",
    "# 添加注释，将条件部分与执行部分区分开\n",
    "if (this_is_one_thing and\n",
    "    that_is_another_thing):\n",
    "    # 由于条件为True，因此我们执行下列语句\n",
    "    do_something()\n",
    "\n",
    "# 缩进两次\n",
    "if (this_is_one_thing\n",
    "        and that_is_another_thing):\n",
    "    do_something()"
   ]
  },
  {
   "cell_type": "markdown",
   "metadata": {},
   "source": [
    "结尾的方括号/圆括号/花括号应该被放置在多行内容的最后一行的第一个非空字符的正下方，如下所示："
   ]
  },
  {
   "cell_type": "code",
   "execution_count": null,
   "metadata": {
    "collapsed": true
   },
   "outputs": [],
   "source": [
    "my_list = [\n",
    "    1, 2, 3,\n",
    "    4, 5, 6,\n",
    "    ]\n",
    "\n",
    "result = some_function_that_takes_arguments(\n",
    "    'a', 'b', 'c',\n",
    "    'd', 'e', 'f',\n",
    "    )"
   ]
  },
  {
   "cell_type": "markdown",
   "metadata": {},
   "source": [
    "也可以写在第一行的第一个字符的正下方："
   ]
  },
  {
   "cell_type": "code",
   "execution_count": null,
   "metadata": {
    "collapsed": true
   },
   "outputs": [],
   "source": [
    "my_list = [\n",
    "    1, 2, 3,\n",
    "    4, 5, 6,\n",
    "]\n",
    "result = some_function_that_takes_arguments(\n",
    "    'a', 'b', 'c',\n",
    "    'd', 'e', 'f',\n",
    ")"
   ]
  },
  {
   "cell_type": "markdown",
   "metadata": {},
   "source": [
    "## 制表符还是空格(Tab Or Space?)"
   ]
  },
  {
   "cell_type": "markdown",
   "metadata": {},
   "source": [
    "空格是首选的缩进方式。\n",
    "\n",
    "为了保持一致性，在使用了制表符作为缩进的代码中，应该保持使用制表符。\n",
    "\n",
    "Python 3 不支持空格缩进与制表符缩进混用。\n",
    "\n",
    "Python 2 中的混用缩进代码也应该被转换为统一使用空格。\n",
    "\n",
    "当使用 -t 选项来调用 Python 2 命令行工具时，运行混用缩进的代码会报出警告，当使用 -tt 选项时，运行混用缩进的代码会报出错误。强力建议使用这两个选项。"
   ]
  },
  {
   "cell_type": "markdown",
   "metadata": {},
   "source": [
    "## 单行最大长度(Maximum Line Length)"
   ]
  },
  {
   "cell_type": "markdown",
   "metadata": {},
   "source": [
    "将所有的行限制在79个字符以内。\n",
    "\n",
    "对于那些具有很少的结构约束（例如文档字符串、注释）的代码段来说，最大行长度应该在在72个字符以内。\n",
    "\n",
    "限制代码编辑窗口的宽度使并排编辑多个文件成为可能，并且在使用代码审核工具时，可以很好的在两个相邻列中显示不同的代码版本。\n",
    "\n",
    "很多工具中的默认换行设置破坏了代码的可视结构，使其更难被理解。某些编辑器在换行时会在行尾放置标记字符，若限制代码的最大的长度，可以在这些最大宽度只有80个字符的编辑器中避免换行。而一些基于Web的工具也许根本不会提供动态自动换行功能。\n",
    "\n",
    "一些团队更喜欢较长的单行代码。如果某个团队对单行代码长度的问题达成了共识，并且由该团队专门维护其代码的话，在将文档字符串与注释保持在72个字符以 内的前提下，将名义上的单行代码的最大长度从80个字符提升到100个也是可以的（有效的将实际字符最大长度提高到了99个）。\n",
    "\n",
    "Python 标准库是保守的，选择了将单行代码长度限制在79个字符以内（文档字符串/注释72个字符以内）。\n",
    "\n",
    "最为推荐的长行换行方式是在圆括号、方括号、花括号内的 Python 隐式续行。相比于使用反斜杠来转义续行，应该优先使用将长行放置于圆括号内来隐式续行的方式。\n",
    "\n",
    "而某些时候反斜杠也是适于使用的。例如，较长的with语句不能使用隐式行续，就需要使用反斜杠了："
   ]
  },
  {
   "cell_type": "code",
   "execution_count": null,
   "metadata": {
    "collapsed": true
   },
   "outputs": [],
   "source": [
    "with open('/path/to/some/file/you/want/to/read') as file_1, \\\n",
    "     open('/path/to/some/file/being/written', 'w') as file_2:\n",
    "    file_2.write(file_1.read())"
   ]
  },
  {
   "cell_type": "markdown",
   "metadata": {},
   "source": [
    "另一个例子是，assert语句中也需要反斜杠。"
   ]
  },
  {
   "cell_type": "markdown",
   "metadata": {
    "collapsed": true
   },
   "source": [
    "## 在二元运算符的前面或后面换行？(Should a line break before or after a binary operator?)"
   ]
  },
  {
   "cell_type": "code",
   "execution_count": null,
   "metadata": {
    "collapsed": true
   },
   "outputs": [],
   "source": [
    "# 不符合约定的代码：运算符与被运算对象距离过远\n",
    "income = (gross_wages +\n",
    "          taxable_interest +\n",
    "          (dividends - qualified_dividends) -\n",
    "          ira_deduction -\n",
    "          student_loan_interest)"
   ]
  },
  {
   "cell_type": "code",
   "execution_count": null,
   "metadata": {
    "collapsed": true
   },
   "outputs": [],
   "source": [
    "# 符合约定的代码：很容易将运算符与被运算对象联系起来\n",
    "income = (gross_wages\n",
    "          + taxable_interest\n",
    "          + (dividends - qualified_dividends)\n",
    "          - ira_deduction\n",
    "          - student_loan_interest)"
   ]
  },
  {
   "cell_type": "markdown",
   "metadata": {
    "collapsed": true
   },
   "source": [
    "## 空白行(Blank Line)"
   ]
  },
  {
   "cell_type": "markdown",
   "metadata": {
    "collapsed": true
   },
   "source": [
    "使用两个空白行来分隔定义顶级函数、定义类的def语句。\n",
    "\n",
    "使用单个空白行来分隔类内定义方法的def语句。\n",
    "\n",
    "额外的空白行可以被（尽量少的）用来分隔几组相关的函数。在一堆相关的单行代码之间，空白行应该被省略。\n",
    "\n",
    "在函数中（尽量少的）使用空白行来区分逻辑代码块。\n",
    "\n",
    "Python 将 control-L (也就是, ^L) 换行符认作空白符。在许多工具中都将 control-L 识别做分页符，可以使用其来分页。但是注意，在某些编辑器或基于Web的代码浏览器中，control-L 是不会识别作换行符的，会被做为其他字符显示。"
   ]
  },
  {
   "cell_type": "markdown",
   "metadata": {
    "collapsed": true
   },
   "source": [
    "## 源文件编码(Source File Encoding)"
   ]
  },
  {
   "cell_type": "markdown",
   "metadata": {
    "collapsed": true
   },
   "source": [
    "在 Python 的核心发布版中，应该主要使用 UTF-8 编码（或者在 Python 2 中使用 ASCII）。\n",
    "\n",
    "在 Python 2 中使用 ASCII ，在 Python 3 中使用 UTF-8 时不应该在文件中进行编码声明。\n",
    "\n",
    "在标准库中，往往只有以测试为目的的代码或包含非 ASCII 编码字符的作者名的注释中，才会使用非默认编码。否则，则推荐使用 \\x, \\u, \\U, \\N 等转义字符来在字符串文本中表示非 ASCII 字符。\n",
    "\n",
    "在 Python 3.0 与更高级的 Python 版本中，对 Python 标准库的源文件编码作出了如下规定7)：Python 标准库中的所有标示符必须仅使用 ACSII 编码的字符，在任何可能的时候都使用英文书写（在许多情况下，缩写名词和技术术语使用的是非英文）。另外，字符串文本与注释也必须使用 ASCII 编码。唯一的例外，是测试非 ASCII 编码特性的测试案例，与作者名的书写。对于非拉丁字符的作者名，应该将其翻译为拉丁字母书写。\n",
    "\n",
    "推荐那些面向全球范围内开发者、用户的开源项目也遵循上述规定。"
   ]
  },
  {
   "cell_type": "markdown",
   "metadata": {
    "collapsed": true
   },
   "source": [
    "## 导入(Imports)"
   ]
  },
  {
   "cell_type": "markdown",
   "metadata": {
    "collapsed": true
   },
   "source": [
    "import 语句通常应该独立成行，例如："
   ]
  },
  {
   "cell_type": "code",
   "execution_count": null,
   "metadata": {
    "collapsed": true
   },
   "outputs": [],
   "source": [
    "# 符合约定的代码\n",
    "import os\n",
    "import sys\n",
    "\n",
    "# 不符合约定的代码\n",
    "import sys, os"
   ]
  },
  {
   "cell_type": "code",
   "execution_count": null,
   "metadata": {
    "collapsed": true
   },
   "outputs": [],
   "source": [
    "# 符合约定的代码\n",
    "from subprocess import Popen, PIPE"
   ]
  },
  {
   "cell_type": "markdown",
   "metadata": {},
   "source": [
    "import 语句总应该被放到放到源码文件的最前端，即在模块注释与文档字符串之后，全局变量与常量定义之前。\n",
    "\n",
    "多条 import 语句总应该遵循这样的顺序书写：\n",
    "\n",
    "1. 标准库的导入 \n",
    "2. 相关第三方库导入 \n",
    "3. 本地应用/库的相关导入 \n",
    "\n",
    "在每组 import 语句应该使用空白行分隔。"
   ]
  },
  {
   "cell_type": "markdown",
   "metadata": {},
   "source": [
    "建议使用绝对导入形式的 import 语句，它不仅更易读，并且在配置错误（例如某个包中的目录以 sys.path 结尾时)时有更良好的导入行为（至少有更好的报错）："
   ]
  },
  {
   "cell_type": "code",
   "execution_count": null,
   "metadata": {
    "collapsed": true
   },
   "outputs": [],
   "source": [
    "import mypkg.sibling\n",
    "from mypkg import sibling\n",
    "from mypkg.sibling import example"
   ]
  },
  {
   "cell_type": "markdown",
   "metadata": {},
   "source": [
    "相比于绝对导入，清晰的相对导入其实也是可以接受的，特别是当使用绝对导入需要处理不必要的复杂包布局时："
   ]
  },
  {
   "cell_type": "code",
   "execution_count": null,
   "metadata": {
    "collapsed": true
   },
   "outputs": [],
   "source": [
    "from .import sibling\n",
    "from .sibling import example"
   ]
  },
  {
   "cell_type": "markdown",
   "metadata": {},
   "source": [
    "Python 标准库代码应该避免复杂的包布局，并且总是使用绝对导入。  \n",
    "Python 3 中不应该使用相对导入，并且 Python 3 中该功能已被移除。"
   ]
  },
  {
   "cell_type": "markdown",
   "metadata": {},
   "source": [
    "当在某个包含类的模块中导入类时，这样的书写方式是合理的："
   ]
  },
  {
   "cell_type": "code",
   "execution_count": null,
   "metadata": {
    "collapsed": true
   },
   "outputs": [],
   "source": [
    "from myclass import MyClass\n",
    "from foo.bar.yourclass import YourClass"
   ]
  },
  {
   "cell_type": "markdown",
   "metadata": {},
   "source": [
    "但如果这样的书写方式引起类名冲突，则请这样书写："
   ]
  },
  {
   "cell_type": "code",
   "execution_count": null,
   "metadata": {
    "collapsed": true
   },
   "outputs": [],
   "source": [
    "import myclass\n",
    "import foo.bar.yourclass"
   ]
  },
  {
   "cell_type": "markdown",
   "metadata": {},
   "source": [
    "并使用 “myclass.MyClass” 和 “foo.bar.yourclass.YourClass” 来对其进行引用。"
   ]
  },
  {
   "cell_type": "markdown",
   "metadata": {},
   "source": [
    "通配符导入（from <module> import *）应该被禁止，因为这样做会导致在被导入的命名空间中存在哪些命名对象变得不清晰，迷惑读者与其他自动化工具。不过要使用通配符导入，也有站得住脚的理由：需要将内部 API 重新发布为公共 API（例如，使用纯 Python 重写一个可选加速模块的借口，而事先你并不知道这个接口将被重写）。 \n",
    "\n",
    "当以这样的方式重发布命名时，下述的编码指南依然适用。"
   ]
  },
  {
   "cell_type": "markdown",
   "metadata": {},
   "source": [
    "## 模块层次的dunder names(Module level dunder names)\n",
    "模块层次的 \"dunders\" (前后各有两个下划线)，比如 \\__all\\__ ， \\__author\\__ ， \\__version\\__ 等，应该被放置在文档字符串和 from \\__future\\__ imports 之后，并位于任何其他 import 语句之前。  \n",
    "Python中强制要求 from \\__future\\__ imports 位于除了文档字符串之外的任何代码之前。"
   ]
  },
  {
   "cell_type": "code",
   "execution_count": null,
   "metadata": {
    "collapsed": true
   },
   "outputs": [],
   "source": [
    "# 符合约定的代码\n",
    "\n",
    "\"\"\"This is the example module.\n",
    "\n",
    "This module does stuff.\n",
    "\"\"\"\n",
    "\n",
    "from __future__ import barry_as_FLUFL\n",
    "\n",
    "__all__ = ['a', 'b', 'c']\n",
    "__version__ = '0.1'\n",
    "__author__ = 'Cardinal Biggles'\n",
    "\n",
    "import os\n",
    "import sys"
   ]
  },
  {
   "cell_type": "markdown",
   "metadata": {},
   "source": [
    "# 字符串引用(String Quotes)"
   ]
  },
  {
   "cell_type": "markdown",
   "metadata": {},
   "source": [
    "在Python中表示字符串时，不管用单引号还是双引号都是一样的。但是不推荐混用这两种方式。最好选择一种规则并坚持使用。当字符串中包含单引号时，采用双引号来表示字符串，反之也是一样，这样可以避免使用反斜杠，代码也更易读。\n",
    "\n",
    "对于三引号表示的字符串，使用双引号字符来表示（译注：即用\"\"\"而不是'''），这样可以和PEP 257的文档字符串（docstring）规则保持一致。"
   ]
  },
  {
   "cell_type": "markdown",
   "metadata": {},
   "source": [
    "# 表达式和语句中的空格(Whitespace In Expressions And Statements)"
   ]
  },
  {
   "cell_type": "markdown",
   "metadata": {},
   "source": [
    "## 一些痛点(Pet Peeves)"
   ]
  },
  {
   "cell_type": "markdown",
   "metadata": {},
   "source": [
    "在下列情形中避免使用过多的空白："
   ]
  },
  {
   "cell_type": "markdown",
   "metadata": {},
   "source": [
    "方括号，圆括号和花括号之后："
   ]
  },
  {
   "cell_type": "code",
   "execution_count": null,
   "metadata": {
    "collapsed": true
   },
   "outputs": [],
   "source": [
    "# 符合约定的代码\n",
    "spam(ham[1], {eggs: 2})\n",
    "\n",
    "# 不符合约定的代码\n",
    "spam( ham[ 1 ], { eggs: 2 } )"
   ]
  },
  {
   "cell_type": "markdown",
   "metadata": {},
   "source": [
    "逗号，分号或冒号之前："
   ]
  },
  {
   "cell_type": "code",
   "execution_count": null,
   "metadata": {
    "collapsed": true
   },
   "outputs": [],
   "source": [
    "# 符合约定的代码\n",
    "if x == 4: print x, y; x, y = y, x\n",
    "\n",
    "# 不符合约定的代码\n",
    "if x == 4 : print x , y ; x , y = y , x"
   ]
  },
  {
   "cell_type": "markdown",
   "metadata": {},
   "source": [
    "不过，在分片操作时，冒号和二元运算符是一样的，应该在其左右两边保留相同数量的空格（就像对待优先级最低的运算符一样）。在扩展的分片操作中，所有冒号的左右两边空格数都应该相等。不过也有例外，当切片操作中的参数被省略时，应该也忽略空格。"
   ]
  },
  {
   "cell_type": "code",
   "execution_count": null,
   "metadata": {
    "collapsed": true
   },
   "outputs": [],
   "source": [
    "# 符合约定的代码\n",
    "ham[1:9], ham[1:9:3], ham[:9:3], ham[1::3], ham[1:9:]\n",
    "ham[lower:upper], ham[lower:upper:], ham[lower::step]\n",
    "ham[lower+offset : upper+offset]\n",
    "ham[: upper_fn(x) : step_fn(x)], ham[:: step_fn(x)]\n",
    "ham[lower + offset : upper + offset]\n",
    "\n",
    "# 不符合约定的代码\n",
    "ham[lower + offset:upper + offset]\n",
    "ham[1: 9], ham[1 :9], ham[1:9 :3]\n",
    "ham[lower : : upper]\n",
    "ham[ : upper]"
   ]
  },
  {
   "cell_type": "markdown",
   "metadata": {},
   "source": [
    "在调用函数时传递参数list的括号之前："
   ]
  },
  {
   "cell_type": "code",
   "execution_count": null,
   "metadata": {
    "collapsed": true
   },
   "outputs": [],
   "source": [
    "# 符合约定的代码\n",
    "spam(1)\n",
    "\n",
    "# 不符合约定的代码\n",
    "spam (1)"
   ]
  },
  {
   "cell_type": "markdown",
   "metadata": {},
   "source": [
    "在索引和切片操作的左括号之前："
   ]
  },
  {
   "cell_type": "code",
   "execution_count": null,
   "metadata": {
    "collapsed": true
   },
   "outputs": [],
   "source": [
    "# 符合约定的代码\n",
    "dct['key'] = lst[index]\n",
    "\n",
    "# 不符合约定的代码\n",
    "dct ['key'] = lst [index]"
   ]
  },
  {
   "cell_type": "markdown",
   "metadata": {},
   "source": [
    "赋值(或其他)运算符周围使用多个空格来和其他语句对齐："
   ]
  },
  {
   "cell_type": "code",
   "execution_count": null,
   "metadata": {
    "collapsed": true
   },
   "outputs": [],
   "source": [
    "# 符合约定的代码\n",
    "x = 1\n",
    "y = 2\n",
    "long_variable = 3\n",
    "\n",
    "# 不符合约定的代码\n",
    "x             = 1\n",
    "y             = 2\n",
    "long_variable = 3"
   ]
  },
  {
   "cell_type": "markdown",
   "metadata": {},
   "source": [
    "## 其他建议(Other Recommendations)"
   ]
  },
  {
   "cell_type": "markdown",
   "metadata": {},
   "source": [
    "总是在下列二元操作符的两端使用单个空格：赋值操作符(=)，参数赋值(+=, -= 等)，比较操作符(==, <, >, !=, <>, ⇐, >=, in, not in, is, is not)，布尔操作符(and, or, not)。"
   ]
  },
  {
   "cell_type": "markdown",
   "metadata": {},
   "source": [
    "如果使用了优先级不同的运算符，则在优先级较低的操作符周围增加空白。请你自行判断，不过永远不要用超过1个空格，永远保持二元运算符两侧的空白数量一样。"
   ]
  },
  {
   "cell_type": "code",
   "execution_count": null,
   "metadata": {
    "collapsed": true
   },
   "outputs": [],
   "source": [
    "# 符合约定的代码\n",
    "i = i + 1\n",
    "submitted += 1\n",
    "x = x*2 - 1\n",
    "hypot2 = x*x + y*y\n",
    "c = (a+b) * (a-b)\n",
    "\n",
    "# 不符合约定的代码\n",
    "i=i+1\n",
    "submitted +=1\n",
    "x = x * 2 - 1\n",
    "hypot2 = x * x + y * y\n",
    "c = (a + b) * (a - b)"
   ]
  },
  {
   "cell_type": "markdown",
   "metadata": {},
   "source": [
    "使用=符号来表示关键字参数或默认参数值时，不要在其周围使用空格。"
   ]
  },
  {
   "cell_type": "code",
   "execution_count": null,
   "metadata": {
    "collapsed": true
   },
   "outputs": [],
   "source": [
    "# 符合约定的代码\n",
    "def complex(real, imag=0.0):\n",
    "    return magic(r=real, i=imag)\n",
    "\n",
    "# 不符合约定的代码\n",
    "def complex(real, imag = 0.0):\n",
    "    return magic(r = real, i = imag)"
   ]
  },
  {
   "cell_type": "markdown",
   "metadata": {},
   "source": [
    "在带注释的函数定义中需要在=符号周围加上空格。此外, 在:后使用一个空格，在->表示带注释的返回值时，其两侧各使用一个空格。"
   ]
  },
  {
   "cell_type": "code",
   "execution_count": null,
   "metadata": {
    "collapsed": true
   },
   "outputs": [],
   "source": [
    "# 符合约定的代码\n",
    "def munge(input: AnyStr):\n",
    "def munge(sep: AnyStr = None):\n",
    "def munge() -> AnyStr:\n",
    "def munge(input: AnyStr, sep: AnyStr = None, limit=1000):\n",
    "\n",
    "# 不符合约定的代码\n",
    "def munge(input: AnyStr=None):\n",
    "def munge(input:AnyStr):\n",
    "def munge(input: AnyStr)->PosInt:"
   ]
  },
  {
   "cell_type": "markdown",
   "metadata": {},
   "source": [
    "复合语句（即将多行语句写在一行）一般是不鼓励使用的。"
   ]
  },
  {
   "cell_type": "code",
   "execution_count": null,
   "metadata": {
    "collapsed": true
   },
   "outputs": [],
   "source": [
    "# 符合约定的代码\n",
    "if foo == 'blah':\n",
    "    do_blah_thing()\n",
    "    do_one()\n",
    "    do_two()\n",
    "    do_three()\n",
    "\n",
    "# 不符合约定的代码\n",
    "if foo == 'blah': do_blah_thing()\n",
    "do_one(); do_two(); do_three()"
   ]
  },
  {
   "cell_type": "markdown",
   "metadata": {},
   "source": [
    "有时也可以将短小的if/for/while中的语句写在一行，但对于有多个分句的语句永远不要这样做。也要避免将多行都写在一起。"
   ]
  },
  {
   "cell_type": "code",
   "execution_count": null,
   "metadata": {
    "collapsed": true
   },
   "outputs": [],
   "source": [
    "# 不建议的代码\n",
    "if foo == 'blah': do_blah_thing()\n",
    "for x in lst: total += x\n",
    "while t < 10: t = delay()\n",
    "\n",
    "# 不符合约定的代码\n",
    "if foo == 'blah': do_blah_thing()\n",
    "else: do_non_blah_thing()\n",
    "\n",
    "try: something()\n",
    "finally: cleanup()\n",
    "\n",
    "do_one(); do_two(); do_three(long, argument,\n",
    "                             list, like, this)\n",
    "\n",
    "if foo == 'blah': one(); two(); three()"
   ]
  },
  {
   "cell_type": "markdown",
   "metadata": {},
   "source": [
    "# 注释(Comments)"
   ]
  },
  {
   "cell_type": "markdown",
   "metadata": {},
   "source": [
    "和代码矛盾的注释还不如没有。当代码有改动时，一定要优先更改注释使其保持最新。\n",
    "\n",
    "注释应该是完整的多个句子。如果注释是一个短语或一个句子，其首字母应该大写，除非开头是一个以小写字母开头的标识符（永远不要更改标识符的大小写）。\n",
    "\n",
    "如果注释很短，结束的句号可以被忽略。块注释通常由一段或几段完整的句子组成，每个句子都应该以句号结束。\n",
    "\n",
    "你应该在句尾的句号后再加上2个空格。\n",
    "\n",
    "使用英文写作，参考Strunk和White的《The Elements of Style》\n",
    "\n",
    "来自非英语国家的Python程序员们，请使用英文来写注释，除非你120%确定你的代码永远不会被不懂你所用语言的人阅读到。"
   ]
  },
  {
   "cell_type": "markdown",
   "metadata": {},
   "source": [
    "## 块注释(Block Comments)"
   ]
  },
  {
   "cell_type": "markdown",
   "metadata": {},
   "source": [
    "块注释一般写在对应代码之前，并且和对应代码有同样的缩进级别。块注释的每一行都应该以#和一个空格开头（除非该文本是在注释内缩进对齐的）。\n",
    "\n",
    "块注释中的段落应该用只含有单个#的一行隔开。"
   ]
  },
  {
   "cell_type": "markdown",
   "metadata": {},
   "source": [
    "## 行内注释(Inline Comments)"
   ]
  },
  {
   "cell_type": "markdown",
   "metadata": {},
   "source": [
    "尽量少用行内注释。\n",
    "\n",
    "行内注释是和代码语句写在一行内的注释。行内注释应该至少和代码语句之间有两个空格的间隔，并且以#和一个空格开始。\n",
    "\n",
    "行内注释通常不是必要的，在代码含义很明显时甚至会让人分心。请不要这样做:"
   ]
  },
  {
   "cell_type": "code",
   "execution_count": null,
   "metadata": {
    "collapsed": true
   },
   "outputs": [],
   "source": [
    "x = x + 1                 # Increment x"
   ]
  },
  {
   "cell_type": "markdown",
   "metadata": {},
   "source": [
    "但这样做是有用的："
   ]
  },
  {
   "cell_type": "code",
   "execution_count": null,
   "metadata": {
    "collapsed": true
   },
   "outputs": [],
   "source": [
    "x = x + 1                 # Compensate for border"
   ]
  },
  {
   "cell_type": "markdown",
   "metadata": {},
   "source": [
    "## 文档字符串(Documentation Strings)"
   ]
  },
  {
   "cell_type": "markdown",
   "metadata": {},
   "source": [
    "要知道如何写出好的文档字符串（docstring），请参考PEP 257。\n",
    "\n",
    "所有的公共模块，函数，类和方法都应该有文档字符串。对于非公共方法，文档字符串不是必要的，但你应该留有注释说明该方法的功能，该注释应当出现在def的下一行。\n",
    "\n",
    "PEP 257描述了好的文档字符应该遵循的规则。其中最重要的是，多行文档字符串以单行\"\"\"结尾，不能有其他字符，例如："
   ]
  },
  {
   "cell_type": "code",
   "execution_count": null,
   "metadata": {
    "collapsed": true
   },
   "outputs": [],
   "source": [
    "\"\"\"Return a foobang\n",
    "\n",
    "Optional plotz says to frobnicate the bizbaz first.\n",
    "\"\"\""
   ]
  },
  {
   "cell_type": "markdown",
   "metadata": {},
   "source": [
    "对于仅有一行的文档字符串，结尾处的\"\"\"应该也写在这一行。"
   ]
  },
  {
   "cell_type": "markdown",
   "metadata": {},
   "source": [
    "# 命名约定(Naming Conventions)"
   ]
  },
  {
   "cell_type": "markdown",
   "metadata": {},
   "source": [
    "Python标准库的命名约定有一些混乱，因此我们永远都无法保持一致。但如今仍然存在一些推荐的命名标准。新的模块和包（包括第三方框架）应该采用这些标准，但若是已经存在的包有另一套风格的话，还是应当与原有的风格保持内部一致。"
   ]
  },
  {
   "cell_type": "markdown",
   "metadata": {},
   "source": [
    "## 重写原则(Overriding Principle)"
   ]
  },
  {
   "cell_type": "markdown",
   "metadata": {},
   "source": [
    "对于用户可见的公共部分API，其命名应当表达出功能用途而不是其具体的实现细节。"
   ]
  },
  {
   "cell_type": "markdown",
   "metadata": {},
   "source": [
    "## 描述性：命名风格(Descriptive: Naming Styles)"
   ]
  },
  {
   "cell_type": "markdown",
   "metadata": {},
   "source": [
    "存在很多不同的命名风格，最好能够独立地从命名对象的用途认出采用了哪种命名风格。\n",
    "\n",
    "以下是常用于区分的命名风格："
   ]
  },
  {
   "cell_type": "markdown",
   "metadata": {},
   "source": [
    "- ``b`` (单个小写字母)\n",
    "- ``B`` (单个大写字母)\n",
    "- ``lowercase``(小写)\n",
    "- ``lower_case_with_underscores``(带下划线小写)\n",
    "- ``UPPERCASE``(大写)\n",
    "- ``UPPER_CASE_WITH_UNDERSCORES``(带下划线大写)\n",
    "- ``CapitalizedWords`` (也叫做CapWords或者CamelCase -- 因为单词首字母大写看起来很像驼峰)。也被称作StudlyCaps。"
   ]
  },
  {
   "cell_type": "markdown",
   "metadata": {},
   "source": [
    "注意：当CapWords里包含缩写时，将缩写部分的字母都大写。HTTPServerError比HttpServerError要好。"
   ]
  },
  {
   "cell_type": "markdown",
   "metadata": {},
   "source": [
    "- ``mixedCase`` (注意：和CapitalizedWords不同在于其首字母小写！)\n",
    "- ``Capitalized_Words_With_Underscores`` (这种风格超丑！)"
   ]
  },
  {
   "cell_type": "markdown",
   "metadata": {},
   "source": [
    "也有风格使用简短唯一的前缀来表示一组相关的命名。这在Python中并不常见，但为了完整起见这里也捎带提一下。比如，``os.stat()``函数返回一个tuple，其中的元素名原本为``st_mode``, ``st_size``, ``st_mtime``等等。（这样做是为了强调和POSIX系统调用结构之间的关系，可以帮助程序员更好熟悉。）"
   ]
  },
  {
   "cell_type": "markdown",
   "metadata": {},
   "source": [
    "X11库中的公共函数名都以X开头。在Python中这样的风格一般被认为是不必要的，因为属性和方法名之前已经有了对象名的前缀，而函数名前也有了模块名的前缀。"
   ]
  },
  {
   "cell_type": "markdown",
   "metadata": {},
   "source": [
    "此外，要区别以下划线开始或结尾的特殊形式（可以和其它的规则结合起来）："
   ]
  },
  {
   "cell_type": "markdown",
   "metadata": {},
   "source": [
    "- ``_single_leading_underscore``: 以单个下划线开头是\"内部使用\"的弱标志。\n",
    "  E.g. ``from M import *``不会import下划线开头的对象。\n",
    "\n",
    "- ``single_trailing_underscore_``: 以单个下划线结尾用来避免和Python关键词产生冲突，例如:\n",
    "\n",
    "      Tkinter.Toplevel(master, class_='ClassName')\n",
    "\n",
    "- ``__double_leading_underscore``: 以双下划线开头的风格命名类属性表示触发命名修饰（在FooBar类中，``__boo``命名会被修饰成``_FooBar__boo``; 见下）。\n",
    "\n",
    "- ``__double_leading_and_trailing_underscore__``: 以双下划线开头和结尾的命名风格表示生存在用户控制的命名空间里“魔法”对象或属性。\n",
    "  E.g. ``__init__``, ``__import__`` 或 ``__file__``。请依照文档描述来使用这些命名，千万不要自己发明。"
   ]
  },
  {
   "cell_type": "markdown",
   "metadata": {},
   "source": [
    "## 规范性：命名约定(Prescriptive: Naming Conventions)"
   ]
  },
  {
   "cell_type": "markdown",
   "metadata": {},
   "source": [
    "### 需要避免的命名(Names To Avoid)"
   ]
  },
  {
   "cell_type": "markdown",
   "metadata": {},
   "source": [
    "不要使用字符’l’（小写的字母el），’O’（大写的字母oh），或者’I’（大写的字母eye）来作为单个字符的变量名。\n",
    "\n",
    "在一些字体中，这些字符和数字1和0无法区别开来。当想使用’l’时，使用’L’代替。"
   ]
  },
  {
   "cell_type": "markdown",
   "metadata": {},
   "source": [
    "### 包和模块命名(Package And Module Names)"
   ]
  },
  {
   "cell_type": "markdown",
   "metadata": {},
   "source": [
    "模块命名应短小，且为全小写。若下划线能提高可读性，也可以在模块名中使用。Python包命名也应该短小，且为全小写，但不应使用下划线。\n",
    "\n",
    "模块名是对应到文件名的，一些文件系统会区分大小写并且会将长的文件名截断。因此模块名应该尽量短小，这个问题在Unix系统上是不存在的，但把代码移植到较旧的Mac，Windows版本或DOS系统上时，可能会出现问题。\n",
    "\n",
    "当使用C或C++写的扩展模块有相应的Python模块提供更高级的接口时（e.g. 更加面向对象），C/C++模块名以下划线开头（e.g. _sociket）。"
   ]
  },
  {
   "cell_type": "markdown",
   "metadata": {},
   "source": [
    "### 类命名(Class Names)"
   ]
  },
  {
   "cell_type": "markdown",
   "metadata": {},
   "source": [
    "类命名应该使用单词首字母大写（CapWords）的命名约定。\n",
    "\n",
    "当接口已有文档说明且主要是被用作调用时，也可以使用函数的命名约定。\n",
    "\n",
    "注意对于内建命名(builtin names)有一个特殊的约定：大部分内建名都是一个单词（或者两个一起使用的单词），单词首字母大写(CapWords)的约定只对异常命名和内建常量使用。"
   ]
  },
  {
   "cell_type": "markdown",
   "metadata": {},
   "source": [
    "### 异常命名(Exception Names)"
   ]
  },
  {
   "cell_type": "markdown",
   "metadata": {},
   "source": [
    "由于异常实际上也是类，因此类命名约定也适用与异常。不同的是，如果异常实际上是抛出错误的话，异常名前应该加上”Error”的前缀。"
   ]
  },
  {
   "cell_type": "markdown",
   "metadata": {},
   "source": [
    "### 类型变量命名(Type variable names)"
   ]
  },
  {
   "cell_type": "markdown",
   "metadata": {},
   "source": [
    "在PEP 484中介绍的类型变量的命名，建议使用CapWords形式而非短变量名：``T`` , ``AnyStr`` , ``Num``。建议为变量名加前缀 ``_co`` 或 ``_contra``来表示covariant 或 contravariant behavior，例如："
   ]
  },
  {
   "cell_type": "code",
   "execution_count": null,
   "metadata": {
    "collapsed": true
   },
   "outputs": [],
   "source": [
    "from typing import TypeVar\n",
    "\n",
    "VT_co = TypeVar('VT_co', covariant=True)\n",
    "KT_contra = TypeVar('KT_contra', contravariant=True)"
   ]
  },
  {
   "cell_type": "markdown",
   "metadata": {},
   "source": [
    "### 全局变量命名(Global Variable Names)"
   ]
  },
  {
   "cell_type": "markdown",
   "metadata": {},
   "source": [
    "（在此之前，我们先假定这些变量都仅在同一个模块内使用。）这些约定同样也适用于函数命名。\n",
    "\n",
    "对于引用方式设计为 ``from M import *`` 的模块，应该使用 ``__all__`` 机制来避免 ``import`` 全局变量，或者采用下划线前缀的旧约定来命名全局变量，从而表明这些变量是“模块非公开的”。"
   ]
  },
  {
   "cell_type": "markdown",
   "metadata": {},
   "source": [
    "### 函数命名(Function Names)"
   ]
  },
  {
   "cell_type": "markdown",
   "metadata": {},
   "source": [
    "函数命名应该都是小写，必要时使用下划线来提高可读性。\n",
    "\n",
    "只有当已有代码风格已经是混合大小写时（比如threading.py），为了保留向后兼容性才使用混合大小写。"
   ]
  },
  {
   "cell_type": "markdown",
   "metadata": {},
   "source": [
    "### 函数和方法参数(Function And Method Arguments)"
   ]
  },
  {
   "cell_type": "markdown",
   "metadata": {},
   "source": [
    "实例方法的第一参数永远都是self。\n",
    "\n",
    "类方法的第一个参数永远都是cls。\n",
    "\n",
    "在函数参数名和保留关键字冲突时，相对于使用缩写或拼写简化，使用以下划线结尾的命名一般更好。比如，class_比clss更好。（或许使用同义词避免这样的冲突是更好的方式。）"
   ]
  },
  {
   "cell_type": "markdown",
   "metadata": {},
   "source": [
    "### 方法命名和实例变量(Method Names And Instance Variables)"
   ]
  },
  {
   "cell_type": "markdown",
   "metadata": {},
   "source": [
    "使用函数命名的规则：小写单词，必要时使用下划线分开以提高可读性。\n",
    "\n",
    "仅对于非公开方法和变量命名在开头使用一个下划线。\n",
    "\n",
    "避免和子类的命名冲突，使用两个下划线开头来触发Python的命名修饰机制。\n",
    "\n",
    "Python类名的命名修饰规则：如果类Foo有一个属性叫``__a``，不能使用``Foo.__a``的方式访问该变量。（有用户可能仍然坚持使用``Foo._Foo__a``的方法访问。）一般来说，两个下划线开头的命名方法只应该用来避免设计为子类的属性中的命名冲突。\n",
    "\n",
    "注意：关于``__names``的使用也有一些争论（见下）。"
   ]
  },
  {
   "cell_type": "markdown",
   "metadata": {},
   "source": [
    "### 常量(Constants)"
   ]
  },
  {
   "cell_type": "markdown",
   "metadata": {},
   "source": [
    "MAX\\_OVERFLOW and TOTAL. 常量通常是在模块级别定义的，使用全部大写并用下划线将单词分开。例如：MAX_OVERFLOW和TOTAL"
   ]
  },
  {
   "cell_type": "markdown",
   "metadata": {},
   "source": [
    "### 继承的设计(Designing For Inheritance)"
   ]
  },
  {
   "cell_type": "markdown",
   "metadata": {},
   "source": [
    "记得永远区别类的方法和实例变量（属性）应该是公开的还是非公开的。如果有疑虑的话，请选择非公开的；因为之后将非公开属性变为公开属性要容易些。\n",
    "\n",
    "公开属性是那些和你希望和你定义的类无关的客户来使用的，并且确保不会出现向后不兼容的问题。非公开属性是那些不希望被第三方使用的部分，你可以不用保证非公开属性不会变化或被移除。\n",
    "\n",
    "我们在这里没有使用“私有（private）”这个词，因为在Python里没有什么属性是真正私有的（这样设计省略了大量不必要的工作）。\n",
    "\n",
    "另一类属性属于子类API的一部分（在其他语言中经常被称为”protected”）。一些类是为继承设计的，要么扩展要么修改类行为的部分。当设计这样的类时，需要谨慎明确地决定哪些属性是公开的，哪些属于子类API，哪些真的只会被你的基类调用。\n",
    "\n",
    "请记住以上几点，下面是Python风格的指南："
   ]
  },
  {
   "cell_type": "markdown",
   "metadata": {},
   "source": [
    "+ 公开属性不应该有开头下划线。\n",
    "\n",
    "\n",
    "+ 如果公开属性的名字和保留关键字有冲突，在你的属性名尾部加上一个下划线。这比采用缩写和简写更好。（然而，和这条规则冲突的是，‘cls’对任何变量和参数来说都是一个更好地拼写，因为大家都知道这表示class，特别是在类方法的第一个参数里。）\n",
    "    + 注意 1：对于类方法，参考之前的参数命名建议。\n",
    "    \n",
    "    \n",
    "+ 对于简单的公共数据属性，最后仅公开属性名字，不要公开复杂的调用或设值方法。记住在Python中，提供了一条简单的路径来实现未来增强，你应该简单数据属性需要增加功能行为。这种情况下，使用properties将功能实现隐藏在简单数据属性访问语法之后。\n",
    "    + 注意 1：Properties仅仅对新风格类有用。\n",
    "    + 注意 2：尽量保证功能行为没有副作用，尽管缓存这种副作用看上去并没有什么大问题。\n",
    "    + 注意 3: 对计算量大的运算避免试用properties；属性的注解会让调用者相信访问的运算量是相对较小的。\n",
    "    \n",
    "    \n",
    "+ 如果你的类是子类的话，你有一些属性并不想让子类访问，考虑将他们命名为两个下划线开头并且结尾处没有下划线。这样会触发Python命名修饰算法，类名会被修饰添加到属性名中。这样可以避免属性命名冲突，以免子类会不经意间包含相同的命名。\n",
    "    + 注意 1：注意命名修饰仅仅是简单地将类名加入到修饰名中，所以如果子类有相同的类名合属性名，你可能仍然会遇到命名冲突问题。\n",
    "    + 注意 2：命名修饰可以有特定用途，比如在调试时，__getattr__()比较不方便。然而命名修饰算法的可以很好地记录，并且容意手动执行。\n",
    "    + 注意3：不是所有人都喜欢命名修饰。试着权衡避免偶然命名冲突的需求和试用高级调用者使用的潜在可能性。"
   ]
  },
  {
   "cell_type": "markdown",
   "metadata": {},
   "source": [
    "## 公开和内部接口(Public And Internal Interfaces)"
   ]
  },
  {
   "cell_type": "markdown",
   "metadata": {},
   "source": [
    "任何向后兼容性保证仅对公开接口适用。相应地，用户能够清楚分辨公开接口和内部接口是很重要的。\n",
    "\n",
    "文档化的接口被认为是公开的，除非文档中明确申明了它们是临时的或者内部接口，不保证向后兼容性。所有文档中未提到的接口应该被认为是内部的。\n",
    "\n",
    "为了更好审视公开接口和内部接口，模块应该在 ``__all`` 属性中明确申明公开API是哪些。将 ``__all__`` 设为空list表示该模块中没有公开API。\n",
    "\n",
    "即使正确设置了 ``__all`` 属性，内部接口（包，模块，类，函数，属性或其他命名）也应该以一个下划线开头。\n",
    "\n",
    "如果接口的任一一个命名空间（包，模块或类）是内部的，那么该接口也应该是内部的。\n",
    "\n",
    "导入的命名应该永远被认为是实现细节。其他模块不应当依赖这些非直接访问的导入命名，除非它们在文档中明确地被写为模块的API，例如 ``os.path`` 或者包的 ``__init__`` 模块，那些从子模块展现的功能。"
   ]
  },
  {
   "cell_type": "markdown",
   "metadata": {},
   "source": [
    "# 编程建议(Programming Recommendations)"
   ]
  },
  {
   "cell_type": "markdown",
   "metadata": {},
   "source": [
    "+ Code should be written in a way that does not disadvantage other implementations of Python (PyPy, Jython, IronPython, Cython, Psyco, and such).\n",
    "\n",
    "    代码应该用不损害其他Python实现的方式去编写（PyPy, Jython, IronPython, Cython, Psyco 等）。\n",
    "    \n",
    "    For example, do not rely on CPython's efficient implementation of in-place string concatenation for statements in the form a += b or a = a + b. Those statements run more slowly in Jython. In performance sensitive parts of the library, the ''.join() form should be used instead. This will ensure that concatenation occurs in linear time across various implementations.\n",
    "    \n",
    "    例如，不要依赖于CPython的高效内置字符连接语句 ``a += b`` 或 ``a = a + b``。这些语句在Jython中运行较慢。在性能敏感的库中，应该用 ``''.join()`` 来取代。这样可以保证在不同的实现中，字符链接花费的时间都呈线性。"
   ]
  },
  {
   "cell_type": "markdown",
   "metadata": {},
   "source": [
    "+ Comparisons to singletons like None should always be done with is or is not, never the equality operators.\n",
    "\n",
    "    与诸如None这样的字符进行逻辑比较时，要使用 ``is`` 或 ``is not``，永远不要用 ``==`` 运算符。\n",
    "    \n",
    "    Also, beware of writing if x when you really mean if x is not None -- e.g. when testing whether a variable or argument that defaults to None was set to some other value. The other value might have a type (such as a container) that could be false in a boolean context!\n",
    "    \n",
    "    如果你的意思是 ``if x is not None`` ，例如你想测试一个默认值为 ``None`` 的变量有没有被赋予其他值，就不要写成 ``if x`` 。因为该变量有可能被赋值为 ``False`` 。这样会引起错误。"
   ]
  },
  {
   "cell_type": "markdown",
   "metadata": {},
   "source": [
    "+ Use is not operator rather than not ... is . While both expressions are functionally identical, the former is more readable and preferred.\n",
    "\n",
    "    使用 ``is not`` 运算符而非 ``not... is`` 。虽然两种方式都可以运行，但是第一种可读性更强。"
   ]
  },
  {
   "cell_type": "code",
   "execution_count": null,
   "metadata": {
    "collapsed": true
   },
   "outputs": [],
   "source": [
    "# 符合约定的代码\n",
    "if foo is not None:\n",
    "\n",
    "# 不符合约定的代码\n",
    "if not foo is None:"
   ]
  },
  {
   "cell_type": "markdown",
   "metadata": {},
   "source": [
    "+ When implementing ordering operations with rich comparisons, it is best to implement all six operations ( \\__eq\\__ , \\__ne\\__ , \\__lt\\__ , \\__le\\__ , \\__gt\\__ , \\__ge\\__ ) rather than relying on other code to only exercise a particular comparison.\n",
    "\n",
    "    当用复杂比较实现排序操作时，最好去实现全部六个操作( ``__eq__``, ``__ne__``, ``__lt__``, ``__le__``, ``__gt__``, ``__ge__``)，而不是依靠其他的代码去实现一些怪异的比较。\n",
    "    \n",
    "    To minimize the effort involved, the functools.total_ordering() decorator provides a tool to generate missing comparison methods.\n",
    "    \n",
    "    为了最大程度的减少实现这一过程的开销。 ``functools.total_ordering()`` 提供了生成缺少的比较操作的方法。\n",
    "    \n",
    "    PEP 207 indicates that reflexivity rules are assumed by Python. Thus, the interpreter may swap y > x with x < y , y >= x with x <= y , and may swap the arguments of x == y and x != y . The sort() and min() operations are guaranteed to use the < operator and the max() function uses the > operator. However, it is best to implement all six operations so that confusion doesn't arise in other contexts.\n",
    "    \n",
    "    PEP 207指出Python实现了反射。因此，解释器会将 ``y > x`` 转换为 ``x < y``, ``y >= x`` 转换为 ``x <= y``，也会转换 ``x == y`` 和 ``x != y`` 的参数。 ``The sort()`` 和 ``min()`` 被确保使用 ``<`` 操作符， ``max()`` 使用 ``>`` 操作符。 但是，最好实现全部六个操作，以避免在其他地方造成的冲突。"
   ]
  },
  {
   "cell_type": "markdown",
   "metadata": {},
   "source": [
    "+ Always use a def statement instead of an assignment statement that binds a lambda expression directly to an identifier.\n",
    "\n",
    "    编写函数时，使用 ``def`` 语句而不是 ``lambda`` 匿名函数。"
   ]
  },
  {
   "cell_type": "code",
   "execution_count": null,
   "metadata": {
    "collapsed": true
   },
   "outputs": [],
   "source": [
    "# 符合约定的代码\n",
    "def f(x): return 2*x\n",
    "\n",
    "# 不符合约定的代码\n",
    "f = lambda x: 2*x"
   ]
  },
  {
   "cell_type": "markdown",
   "metadata": {},
   "source": [
    "+ Be consistent in return statements. Either all return statements in a function should return an expression, or none of them should. If any return statement returns an expression, any return statements where no value is returned should explicitly state this as return None , and an explicit return statement should be present at the end of the function (if reachable).\n",
    "\n",
    "    ``return`` 语句的使用要保持一致性。要么函数中所有的 ``return`` 语句都返回一个表达式，要么都不返回表达式。如果任何一个 ``return`` 语句返回了一个表达式，没有返回值的 ``return`` 语句都必须显式地写成 ``return None``。并且在函数的结尾处必须有一个显式地 ``return`` 语句。"
   ]
  },
  {
   "cell_type": "code",
   "execution_count": null,
   "metadata": {
    "collapsed": true
   },
   "outputs": [],
   "source": [
    "# 符合约定的代码\n",
    "def foo(x):\n",
    "    if x >= 0:\n",
    "        return math.sqrt(x)\n",
    "    else:\n",
    "        return None\n",
    "\n",
    "def bar(x):\n",
    "    if x < 0:\n",
    "        return None\n",
    "    return math.sqrt(x)\n",
    "\n",
    "# 不符合约定的代码\n",
    "def foo(x):\n",
    "    if x >= 0:\n",
    "        return math.sqrt(x)\n",
    "\n",
    "def bar(x):\n",
    "    if x < 0:\n",
    "        return\n",
    "    return math.sqrt(x)"
   ]
  },
  {
   "cell_type": "markdown",
   "metadata": {},
   "source": [
    "+ Use string methods instead of the string module.\n",
    "\n",
    "    使用 ``string`` 方法而不是 ``string`` 模块。\n",
    "    \n",
    "    String methods are always much faster and share the same API with unicode strings. Override this rule if backward compatibility with Pythons older than 2.0 is required.\n",
    "    \n",
    "    ``string`` 方法更加快捷并且使用和unicode字符一样的API。如果需要向后兼容2.0之前的版本的话，可以不考虑这条规则。"
   ]
  },
  {
   "cell_type": "markdown",
   "metadata": {
    "collapsed": true
   },
   "source": [
    "+ Use ''.startswith() and ''.endswith() instead of string slicing to check for prefixes or suffixes.\n",
    "    \n",
    "    使用``''.startswith()`` 和 ``''.endswith()`` 而不是切片索引来检查前后缀。\n",
    "\n",
    "    startswith() and endswith() are cleaner and less error prone. For example:\n",
    "    \n",
    "    ``''.startswith()`` 和 ``''.endswith()`` 更不容易产生错误。比如："
   ]
  },
  {
   "cell_type": "code",
   "execution_count": null,
   "metadata": {
    "collapsed": true
   },
   "outputs": [],
   "source": [
    "# 符合约定的代码\n",
    "if foo.startswith('bar'):\n",
    "        \n",
    "# 不符合约定的代码\n",
    "if foo[:3] == 'bar':"
   ]
  },
  {
   "cell_type": "markdown",
   "metadata": {
    "collapsed": true
   },
   "source": [
    "+ Object type comparisons should always use isinstance() instead of comparing types directly.\n",
    "\n",
    "    对象类型比较总要用 isinstance() 而非直接比较。"
   ]
  },
  {
   "cell_type": "code",
   "execution_count": null,
   "metadata": {
    "collapsed": true
   },
   "outputs": [],
   "source": [
    "# 符合约定的代码\n",
    "if isinstance(obj, int):\n",
    "\n",
    "# 不符合约定的代码\n",
    "if type(obj) is type(1):"
   ]
  },
  {
   "cell_type": "markdown",
   "metadata": {
    "collapsed": true
   },
   "source": [
    "+ When checking if an object is a string, keep in mind that it might be a unicode string too! In Python 2, str and unicode have a common base class, basestring, so you can do:\n",
    "\n",
    "    当检测一个对象是否是字符串是，记住，它可能是unicode字符。在Python 2.3， str和unicode有同样的基类——basestring, 那么你可以这样做："
   ]
  },
  {
   "cell_type": "code",
   "execution_count": null,
   "metadata": {
    "collapsed": true
   },
   "outputs": [],
   "source": [
    "if isinstance(obj, basestring):"
   ]
  },
  {
   "cell_type": "markdown",
   "metadata": {},
   "source": [
    "    Note that in Python 3, unicode and basestring no longer exist (there is only str ) and a bytes object is no longer a kind of string (it is a sequence of integers instead)\n",
    "    \n",
    "    在Python3中，``unicode`` 和 ``basestring`` 都不存在，只有 ``str``。"
   ]
  },
  {
   "cell_type": "markdown",
   "metadata": {
    "collapsed": true
   },
   "source": [
    "+ For sequences, (strings, lists, tuples), use the fact that empty sequences are false.\n",
    "\n",
    "    对于序列，(strings, lists, tuples)，利用空序列为false这一点。"
   ]
  },
  {
   "cell_type": "code",
   "execution_count": null,
   "metadata": {
    "collapsed": true
   },
   "outputs": [],
   "source": [
    "# 符合约定的代码\n",
    "if not seq:\n",
    "if seq:\n",
    "        \n",
    "# 不符合约定的代码\n",
    "if len(seq):\n",
    "if not len(seq):"
   ]
  },
  {
   "cell_type": "markdown",
   "metadata": {
    "collapsed": true
   },
   "source": [
    "+ Don't write string literals that rely on significant trailing whitespace. Such trailing whitespace is visually indistinguishable and some editors (or more recently, reindent.py) will trim them.\n",
    "\n",
    "    不要书写依赖于有意义的后置空白字符的文本字符串。这种后置空白字符在视觉上不可区分，并且有些编辑器会将它们去掉。"
   ]
  },
  {
   "cell_type": "markdown",
   "metadata": {
    "collapsed": true
   },
   "source": [
    "+ Don't compare boolean values to True or False using == .\n",
    "\n",
    "    不要用 ``==`` 来把布尔值与 ``True`` 或 ``False`` 进行比较。"
   ]
  },
  {
   "cell_type": "code",
   "execution_count": null,
   "metadata": {
    "collapsed": true
   },
   "outputs": [],
   "source": [
    "# 符合约定的代码\n",
    "if greeting:\n",
    "\n",
    "# 不符合约定的代码\n",
    "if greeting == True:\n",
    "if greeting is True:"
   ]
  }
 ],
 "metadata": {
  "kernelspec": {
   "display_name": "Python 2",
   "language": "python",
   "name": "python2"
  },
  "language_info": {
   "codemirror_mode": {
    "name": "ipython",
    "version": 2
   },
   "file_extension": ".py",
   "mimetype": "text/x-python",
   "name": "python",
   "nbconvert_exporter": "python",
   "pygments_lexer": "ipython2",
   "version": "2.7.11"
  }
 },
 "nbformat": 4,
 "nbformat_minor": 0
}
